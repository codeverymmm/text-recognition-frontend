{
  "nbformat": 4,
  "nbformat_minor": 0,
  "metadata": {
    "colab": {
      "provenance": [],
      "include_colab_link": true
    },
    "kernelspec": {
      "name": "python3",
      "display_name": "Python 3"
    },
    "language_info": {
      "name": "python"
    }
  },
  "cells": [
    {
      "cell_type": "markdown",
      "metadata": {
        "id": "view-in-github",
        "colab_type": "text"
      },
      "source": [
        "<a href=\"https://colab.research.google.com/github/codeverymmm/text-recognition-frontend/blob/main/%22%D0%B0%D0%BD%D0%B0%D0%BB%D0%B8%D0%B7_%D0%BF%D1%80%D0%BE%D0%B4%D0%B0%D0%B6_%D0%BF%D0%BE_%D0%B3%D0%BE%D1%80%D0%BE%D0%B4%D0%B0%D0%BC_ipynb%22.ipynb\" target=\"_parent\"><img src=\"https://colab.research.google.com/assets/colab-badge.svg\" alt=\"Open In Colab\"/></a>"
      ]
    },
    {
      "cell_type": "code",
      "execution_count": 1,
      "metadata": {
        "id": "52we1huzDA0o"
      },
      "outputs": [],
      "source": [
        "import pandas as pd\n",
        "#Вставьте файлы в продаж с названиями'Продажи 1.xlsx,'Продажи 2.xlsx'\n",
        "df_1 = pd.read_excel('Продажи 1.xlsx', skiprows=5, usecols=['Город', 'Сумма без НДС', 'Фронт', 'Парсинг'])\n",
        "df_2 = pd.read_excel('Продажи 2.xlsx', skiprows=5, usecols=['Город', 'Сумма без НДС', 'Фронт', 'Парсинг'])"
      ]
    },
    {
      "cell_type": "code",
      "source": [
        "df_1.columns = ['Город', 'Сумма_без_НДС_1', 'Фронт_1', 'Парсинг_1']\n",
        "df_2.columns = ['Город', 'Сумма_без_НДС_2', 'Фронт_2', 'Парсинг_2']"
      ],
      "metadata": {
        "id": "HGKIPYeWSstZ"
      },
      "execution_count": 2,
      "outputs": []
    },
    {
      "cell_type": "code",
      "source": [
        "df_1_grouped = df_1.groupby('Город').agg({\n",
        "    'Сумма_без_НДС_1': 'sum',\n",
        "    'Фронт_1': 'sum',\n",
        "    'Парсинг_1': lambda x: (x == 'Да').sum() / len(x) * 100\n",
        "}).reset_index()\n",
        "\n",
        "total_sum = df_1['Сумма_без_НДС_1'].sum()\n",
        "total_front = df_1['Фронт_1'].sum()\n",
        "total_percent = (df_1['Парсинг_1'] == 'Да').sum() / len(df_1) * 100\n",
        "\n",
        "df_1_grouped.loc[len(df_1_grouped)] = {\n",
        "    'Город': 'Итого',\n",
        "    'Сумма_без_НДС_1': total_sum,\n",
        "    'Фронт_1': total_front,\n",
        "    'Парсинг_1': round(total_percent, 2)\n",
        "}\n",
        "df_1_grouped['Парсинг_1']= df_1_grouped['Парсинг_1'].round(2)"
      ],
      "metadata": {
        "id": "PglIwS5HWdwL"
      },
      "execution_count": 4,
      "outputs": []
    },
    {
      "cell_type": "code",
      "source": [
        "df_2_grouped = df_2.groupby('Город').agg({\n",
        "    'Сумма_без_НДС_2': 'sum',\n",
        "    'Фронт_2': 'sum',\n",
        "    'Парсинг_2': lambda x: (x == 'Да').sum() / len(x) * 100\n",
        "}).reset_index()\n",
        "\n",
        "total_sum = df_2['Сумма_без_НДС_2'].sum()\n",
        "total_front = df_2['Фронт_2'].sum()\n",
        "total_percent = (df_2['Парсинг_2'] == 'Да').sum() / len(df_2) * 100\n",
        "\n",
        "df_2_grouped.loc[len(df_2_grouped)] = {\n",
        "    'Город': 'Итого',\n",
        "    'Сумма_без_НДС_2': total_sum,\n",
        "    'Фронт_2': total_front,\n",
        "    'Парсинг_2': round(total_percent, 2)\n",
        "}\n",
        "df_2_grouped['Парсинг_2']= df_2_grouped['Парсинг_2'].round(2)"
      ],
      "metadata": {
        "id": "_E0wBVruW5-v"
      },
      "execution_count": 5,
      "outputs": []
    },
    {
      "cell_type": "code",
      "source": [
        "df_1_grouped['Доход_1'] = df_1_grouped['Фронт_1'] / df_1_grouped['Сумма_без_НДС_1'] * 100\n",
        "df_2_grouped['Доход_2'] = df_2_grouped['Фронт_2'] / df_2_grouped['Сумма_без_НДС_2'] * 100\n",
        "\n",
        "df_1_grouped['Доход_1'] = df_1_grouped['Доход_1'].round(2)\n",
        "df_2_grouped['Доход_2'] = df_2_grouped['Доход_2'].round(2)\n",
        "\n",
        "#df_15 = df_15.drop(columns=['Фронт_15', 'Сумма_без_НДС_15'])\n",
        "#df_22 = df_22.drop(columns=['Фронт_22', 'Сумма_без_НДС_22'])"
      ],
      "metadata": {
        "id": "UlXGq7byThC-"
      },
      "execution_count": 6,
      "outputs": []
    },
    {
      "cell_type": "code",
      "source": [
        "final_df = pd.merge(df_1_grouped, df_2_grouped, on='Город', how='left')\n",
        "final_df['прирост_парсинга'] = final_df['Парсинг_2'] - final_df['Парсинг_1']\n",
        "final_df['прирост_дохода'] = final_df['Доход_2'] - final_df['Доход_1']"
      ],
      "metadata": {
        "id": "gURQMYo1T7bO"
      },
      "execution_count": 8,
      "outputs": []
    },
    {
      "cell_type": "code",
      "source": [
        "from google.colab import files\n",
        "output_path = \"анализ.xlsx\"\n",
        "final_df.to_excel(output_path, index=False)\n"
      ],
      "metadata": {
        "id": "hjuTtlAAU_H5"
      },
      "execution_count": 9,
      "outputs": []
    },
    {
      "cell_type": "code",
      "source": [
        "import openpyxl\n",
        "from openpyxl.styles import PatternFill\n",
        "\n",
        "workbook = openpyxl.load_workbook(\"анализ.xlsx\")\n",
        "sheet = workbook.active\n",
        "\n",
        "yellow_fill = PatternFill(start_color='FFFACD', end_color='FFFACD', fill_type='solid')\n",
        "\n",
        "max_row = sheet.max_row\n",
        "max_col = sheet.max_column\n",
        "\n",
        "for col in range(1, max_col + 1):\n",
        "    sheet.cell(row=1, column=col).fill = yellow_fill\n",
        "\n",
        "for col in range(1, max_col + 1):\n",
        "    sheet.cell(row=max_row, column=col).fill = yellow_fill\n",
        "\n",
        "for row in range(1, max_row + 1):\n",
        "    sheet.cell(row=row, column=1).fill = yellow_fill\n",
        "\n",
        "workbook.save(\"анализ.xlsx\")\n",
        "files.download(\"анализ.xlsx\")"
      ],
      "metadata": {
        "colab": {
          "base_uri": "https://localhost:8080/",
          "height": 17
        },
        "id": "CNq_9bEqYlQS",
        "outputId": "087e4b13-34de-431b-d794-0b21f8007e70"
      },
      "execution_count": 10,
      "outputs": [
        {
          "output_type": "display_data",
          "data": {
            "text/plain": [
              "<IPython.core.display.Javascript object>"
            ],
            "application/javascript": [
              "\n",
              "    async function download(id, filename, size) {\n",
              "      if (!google.colab.kernel.accessAllowed) {\n",
              "        return;\n",
              "      }\n",
              "      const div = document.createElement('div');\n",
              "      const label = document.createElement('label');\n",
              "      label.textContent = `Downloading \"${filename}\": `;\n",
              "      div.appendChild(label);\n",
              "      const progress = document.createElement('progress');\n",
              "      progress.max = size;\n",
              "      div.appendChild(progress);\n",
              "      document.body.appendChild(div);\n",
              "\n",
              "      const buffers = [];\n",
              "      let downloaded = 0;\n",
              "\n",
              "      const channel = await google.colab.kernel.comms.open(id);\n",
              "      // Send a message to notify the kernel that we're ready.\n",
              "      channel.send({})\n",
              "\n",
              "      for await (const message of channel.messages) {\n",
              "        // Send a message to notify the kernel that we're ready.\n",
              "        channel.send({})\n",
              "        if (message.buffers) {\n",
              "          for (const buffer of message.buffers) {\n",
              "            buffers.push(buffer);\n",
              "            downloaded += buffer.byteLength;\n",
              "            progress.value = downloaded;\n",
              "          }\n",
              "        }\n",
              "      }\n",
              "      const blob = new Blob(buffers, {type: 'application/binary'});\n",
              "      const a = document.createElement('a');\n",
              "      a.href = window.URL.createObjectURL(blob);\n",
              "      a.download = filename;\n",
              "      div.appendChild(a);\n",
              "      a.click();\n",
              "      div.remove();\n",
              "    }\n",
              "  "
            ]
          },
          "metadata": {}
        },
        {
          "output_type": "display_data",
          "data": {
            "text/plain": [
              "<IPython.core.display.Javascript object>"
            ],
            "application/javascript": [
              "download(\"download_94db32b5-a460-4a29-8085-6d37f73a2d24\", \"\\u0430\\u043d\\u0430\\u043b\\u0438\\u0437.xlsx\", 7384)"
            ]
          },
          "metadata": {}
        }
      ]
    }
  ]
}